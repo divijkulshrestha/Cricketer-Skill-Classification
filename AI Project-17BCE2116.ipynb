{
 "cells": [
  {
   "cell_type": "markdown",
   "metadata": {},
   "source": [
    "## Jack of All Trades, Master of One?\n",
    "We are trying to create an SVM Classifier that takes a cricketer's statistics, such as batting average and bowling economy, and classify whether the cricketer is a better batsman or bowler. In other words, we will be able to tell which is a cricketer's primary skill - batting or bowling? \n",
    "\n",
    "This is pretty fun, since we can use it to determine at which skill those rarebred all-rounders are better at!\n",
    "\n",
    "**SVMs work well with small datasets and high dimensions**, so they will be perfect for our cause. \n",
    "Credit to [Alice Zhao](https://github.com/adashofdata) for providing the inspiration needed for this mini-project."
   ]
  },
  {
   "cell_type": "code",
   "execution_count": 1,
   "metadata": {},
   "outputs": [],
   "source": [
    "# Packages for analysis\n",
    "import pandas as pd\n",
    "import numpy as np\n",
    "\n",
    "\n",
    "# Packages for visuals\n",
    "import matplotlib.pyplot as plt\n",
    "import seaborn as sns; sns.set(font_scale=1.2)\n",
    "\n",
    "# Allows charts to appear in the notebook\n",
    "%matplotlib inline"
   ]
  },
  {
   "cell_type": "markdown",
   "metadata": {},
   "source": [
    "### The Training Dataset\n",
    "We shall be giving the SVM labelled data - hence making this a *supervised learning* technique. \n",
    "I am taking the data of 50 of the world's top ODI batsmen (in terms of runs scored since 01 Jan 2010), and 50 of the world's top ODI bowlers (in terms of wickets taken since 01 Jan 2010). This data can be retrieved from ESPNCricinfo's Statsguru. We're looking at the players' batting and bowling averages, strike rates, runs scored and wickets taken in this period.\n",
    "\n",
    "However, some of the top wicket-takers on the list are known to be competent all-rounders, so we need to replace them with other pure bowlers lower down the list. So out go the likes of Shakib, Thisara Perera, Sir Jadeja and Shane Watson - and in come Mitchell Johnson, Shami, Mashrafe Mortaza and Rabada. After removing all all-rounders, the dataset is left with 40 pure batsmen and 40 pure bowlers."
   ]
  },
  {
   "cell_type": "code",
   "execution_count": 2,
   "metadata": {},
   "outputs": [
    {
     "data": {
      "text/html": [
       "<div>\n",
       "<style scoped>\n",
       "    .dataframe tbody tr th:only-of-type {\n",
       "        vertical-align: middle;\n",
       "    }\n",
       "\n",
       "    .dataframe tbody tr th {\n",
       "        vertical-align: top;\n",
       "    }\n",
       "\n",
       "    .dataframe thead th {\n",
       "        text-align: right;\n",
       "    }\n",
       "</style>\n",
       "<table border=\"1\" class=\"dataframe\">\n",
       "  <thead>\n",
       "    <tr style=\"text-align: right;\">\n",
       "      <th></th>\n",
       "      <th>Player</th>\n",
       "      <th>Runs Scored</th>\n",
       "      <th>Batting Average</th>\n",
       "      <th>Batting Strike Rate</th>\n",
       "      <th>Wickets Taken</th>\n",
       "      <th>Bowling Average</th>\n",
       "      <th>Bowling Strike Rate</th>\n",
       "      <th>Type</th>\n",
       "    </tr>\n",
       "  </thead>\n",
       "  <tbody>\n",
       "    <tr>\n",
       "      <th>0</th>\n",
       "      <td>V Kohli (INDIA)</td>\n",
       "      <td>11125</td>\n",
       "      <td>60.79</td>\n",
       "      <td>94.11</td>\n",
       "      <td>4.0</td>\n",
       "      <td>166.25</td>\n",
       "      <td>160.2</td>\n",
       "      <td>Batsman</td>\n",
       "    </tr>\n",
       "    <tr>\n",
       "      <th>1</th>\n",
       "      <td>RG Sharma (INDIA)</td>\n",
       "      <td>8249</td>\n",
       "      <td>53.56</td>\n",
       "      <td>90.63</td>\n",
       "      <td>8.0</td>\n",
       "      <td>64.37</td>\n",
       "      <td>74.1</td>\n",
       "      <td>Batsman</td>\n",
       "    </tr>\n",
       "    <tr>\n",
       "      <th>2</th>\n",
       "      <td>HM Amla (SA)</td>\n",
       "      <td>7265</td>\n",
       "      <td>49.76</td>\n",
       "      <td>89.11</td>\n",
       "      <td>NaN</td>\n",
       "      <td>NaN</td>\n",
       "      <td>NaN</td>\n",
       "      <td>Batsman</td>\n",
       "    </tr>\n",
       "    <tr>\n",
       "      <th>3</th>\n",
       "      <td>AB de Villiers (SA)</td>\n",
       "      <td>6485</td>\n",
       "      <td>64.20</td>\n",
       "      <td>109.76</td>\n",
       "      <td>7.0</td>\n",
       "      <td>28.85</td>\n",
       "      <td>27.4</td>\n",
       "      <td>Batsman</td>\n",
       "    </tr>\n",
       "    <tr>\n",
       "      <th>4</th>\n",
       "      <td>LRPL Taylor (NZ)</td>\n",
       "      <td>6428</td>\n",
       "      <td>54.01</td>\n",
       "      <td>83.56</td>\n",
       "      <td>0.0</td>\n",
       "      <td>NaN</td>\n",
       "      <td>NaN</td>\n",
       "      <td>Batsman</td>\n",
       "    </tr>\n",
       "    <tr>\n",
       "      <th>...</th>\n",
       "      <td>...</td>\n",
       "      <td>...</td>\n",
       "      <td>...</td>\n",
       "      <td>...</td>\n",
       "      <td>...</td>\n",
       "      <td>...</td>\n",
       "      <td>...</td>\n",
       "      <td>...</td>\n",
       "    </tr>\n",
       "    <tr>\n",
       "      <th>75</th>\n",
       "      <td>SP Narine (WI)</td>\n",
       "      <td>363</td>\n",
       "      <td>11.00</td>\n",
       "      <td>82.31</td>\n",
       "      <td>92.0</td>\n",
       "      <td>26.46</td>\n",
       "      <td>38.4</td>\n",
       "      <td>Bowler</td>\n",
       "    </tr>\n",
       "    <tr>\n",
       "      <th>76</th>\n",
       "      <td>MJ Henry (NZ)</td>\n",
       "      <td>211</td>\n",
       "      <td>15.07</td>\n",
       "      <td>100.00</td>\n",
       "      <td>92.0</td>\n",
       "      <td>26.48</td>\n",
       "      <td>29.3</td>\n",
       "      <td>Bowler</td>\n",
       "    </tr>\n",
       "    <tr>\n",
       "      <th>77</th>\n",
       "      <td>TT Bresnan (ENG)</td>\n",
       "      <td>871</td>\n",
       "      <td>19.79</td>\n",
       "      <td>90.25</td>\n",
       "      <td>92.0</td>\n",
       "      <td>33.67</td>\n",
       "      <td>37.0</td>\n",
       "      <td>Bowler</td>\n",
       "    </tr>\n",
       "    <tr>\n",
       "      <th>78</th>\n",
       "      <td>GH Dockrell (IRE)</td>\n",
       "      <td>579</td>\n",
       "      <td>16.54</td>\n",
       "      <td>69.34</td>\n",
       "      <td>89.0</td>\n",
       "      <td>37.38</td>\n",
       "      <td>47.5</td>\n",
       "      <td>Bowler</td>\n",
       "    </tr>\n",
       "    <tr>\n",
       "      <th>79</th>\n",
       "      <td>LL Tsotsobe (SA)</td>\n",
       "      <td>56</td>\n",
       "      <td>7.00</td>\n",
       "      <td>51.37</td>\n",
       "      <td>88.0</td>\n",
       "      <td>25.37</td>\n",
       "      <td>32.0</td>\n",
       "      <td>Bowler</td>\n",
       "    </tr>\n",
       "  </tbody>\n",
       "</table>\n",
       "<p>80 rows × 8 columns</p>\n",
       "</div>"
      ],
      "text/plain": [
       "                 Player  Runs Scored  Batting Average  Batting Strike Rate  \\\n",
       "0       V Kohli (INDIA)        11125            60.79                94.11   \n",
       "1     RG Sharma (INDIA)         8249            53.56                90.63   \n",
       "2          HM Amla (SA)         7265            49.76                89.11   \n",
       "3   AB de Villiers (SA)         6485            64.20               109.76   \n",
       "4      LRPL Taylor (NZ)         6428            54.01                83.56   \n",
       "..                  ...          ...              ...                  ...   \n",
       "75       SP Narine (WI)          363            11.00                82.31   \n",
       "76        MJ Henry (NZ)          211            15.07               100.00   \n",
       "77     TT Bresnan (ENG)          871            19.79                90.25   \n",
       "78    GH Dockrell (IRE)          579            16.54                69.34   \n",
       "79     LL Tsotsobe (SA)           56             7.00                51.37   \n",
       "\n",
       "    Wickets Taken  Bowling Average  Bowling Strike Rate     Type  \n",
       "0             4.0           166.25                160.2  Batsman  \n",
       "1             8.0            64.37                 74.1  Batsman  \n",
       "2             NaN              NaN                  NaN  Batsman  \n",
       "3             7.0            28.85                 27.4  Batsman  \n",
       "4             0.0              NaN                  NaN  Batsman  \n",
       "..            ...              ...                  ...      ...  \n",
       "75           92.0            26.46                 38.4   Bowler  \n",
       "76           92.0            26.48                 29.3   Bowler  \n",
       "77           92.0            33.67                 37.0   Bowler  \n",
       "78           89.0            37.38                 47.5   Bowler  \n",
       "79           88.0            25.37                 32.0   Bowler  \n",
       "\n",
       "[80 rows x 8 columns]"
      ]
     },
     "execution_count": 2,
     "metadata": {},
     "output_type": "execute_result"
    }
   ],
   "source": [
    "#load the dataset\n",
    "cricketers = pd.read_csv('final_dataset.csv')\n",
    "    \n",
    "columns = [\"Player\",\"Runs Scored\",\"Batting Average\", \"Batting Strike Rate\", \"Wickets Taken\", \"Bowling Average\", \"Bowling Strike Rate\", \"Type\"]\n",
    "cricketers"
   ]
  },
  {
   "cell_type": "markdown",
   "metadata": {},
   "source": [
    "### Visualization\n",
    "\n",
    "Now we take two parameters at a time and plot them to see if they can be used to separate the batsmen from the bowlers. \n",
    "Not all parameters work - below you will see that many bowlers have batting strikes even better than the world's best batsmen. Plotting batting v/s bowling average or runs scored v/s bowling economy seems to work much better, as it creates separate clusters of batters and bowlers.  \n",
    "\n",
    "It is also funny to note that while Kohli stands out as the greatest ODI batsman of the decade, his bowling strike rate  actually puts him miles above the rest."
   ]
  },
  {
   "cell_type": "code",
   "execution_count": 4,
   "metadata": {},
   "outputs": [
    {
     "data": {
      "image/png": "[encoded data removed]",
      "text/plain": [
       "<Figure size 459.895x360 with 1 Axes>"
      ]
     },
     "metadata": {
      "needs_background": "light"
     },
     "output_type": "display_data"
    }
   ],
   "source": [
    "# Plot two parameters\n",
    "sns.lmplot('Batting Strike Rate', 'Bowling Strike Rate', data=cricketers, hue='Type',\n",
    "           palette='Set1', fit_reg=False, scatter_kws={\"s\": 70});"
   ]
  },
  {
   "cell_type": "code",
   "execution_count": 5,
   "metadata": {},
   "outputs": [
    {
     "data": {
      "image/png": "[encoded data removed]",
      "text/plain": [
       "<Figure size 459.895x360 with 1 Axes>"
      ]
     },
     "metadata": {
      "needs_background": "light"
     },
     "output_type": "display_data"
    }
   ],
   "source": [
    "# Plot two parameters\n",
    "sns.lmplot('Batting Average', 'Bowling Average', data=cricketers, hue='Type',\n",
    "           palette='Set1', fit_reg=False, scatter_kws={\"s\": 70});"
   ]
  },
  {
   "cell_type": "code",
   "execution_count": 7,
   "metadata": {},
   "outputs": [
    {
     "data": {
      "image/png": "[encoded data removed]",
      "text/plain": [
       "<Figure size 459.895x360 with 1 Axes>"
      ]
     },
     "metadata": {
      "needs_background": "light"
     },
     "output_type": "display_data"
    }
   ],
   "source": [
    "# Plot two parameters\n",
    "sns.lmplot('Runs Scored', 'Wickets Taken', data=cricketers, hue='Type',\n",
    "           palette='Set1', fit_reg=False, scatter_kws={\"s\": 70});"
   ]
  },
  {
   "cell_type": "markdown",
   "metadata": {},
   "source": [
    "### Handling NaN values\n",
    "\n",
    "Our dataset has NaN values because there are many batsmen who have either never bowled, or have never taken a wicket (and thus have no bowling average or strike rate). This can be noticed in the first figure above, where batsmen without bowling strike rates do not find a place in the scatterplot. \n",
    "\n",
    "We shall impute the missing values with the averages of wickets/averages/strike rates of the other batsmen have taken. These values are:\n",
    "\n",
    "**For Batsmen who have never bowled** <br>\n",
    "Average # of wickets taken: 15<br>\n",
    "Average bowling average: 52.57444<br>\n",
    "Average bowling strike rate: 55.84444\n",
    "\n",
    "Batsmen who have never taken a wicket shall be given a bowling average and strike rate of zero."
   ]
  },
  {
   "cell_type": "code",
   "execution_count": 3,
   "metadata": {},
   "outputs": [
    {
     "name": "stderr",
     "output_type": "stream",
     "text": [
      "C:\\Users\\Anantk\\Anaconda3\\lib\\site-packages\\ipykernel_launcher.py:7: SettingWithCopyWarning: \n",
      "A value is trying to be set on a copy of a slice from a DataFrame\n",
      "\n",
      "See the caveats in the documentation: https://pandas.pydata.org/pandas-docs/stable/user_guide/indexing.html#returning-a-view-versus-a-copy\n",
      "  import sys\n",
      "C:\\Users\\Anantk\\Anaconda3\\lib\\site-packages\\ipykernel_launcher.py:8: SettingWithCopyWarning: \n",
      "A value is trying to be set on a copy of a slice from a DataFrame\n",
      "\n",
      "See the caveats in the documentation: https://pandas.pydata.org/pandas-docs/stable/user_guide/indexing.html#returning-a-view-versus-a-copy\n",
      "  \n",
      "C:\\Users\\Anantk\\Anaconda3\\lib\\site-packages\\ipykernel_launcher.py:9: SettingWithCopyWarning: \n",
      "A value is trying to be set on a copy of a slice from a DataFrame\n",
      "\n",
      "See the caveats in the documentation: https://pandas.pydata.org/pandas-docs/stable/user_guide/indexing.html#returning-a-view-versus-a-copy\n",
      "  if __name__ == '__main__':\n",
      "C:\\Users\\Anantk\\Anaconda3\\lib\\site-packages\\ipykernel_launcher.py:14: SettingWithCopyWarning: \n",
      "A value is trying to be set on a copy of a slice from a DataFrame\n",
      "\n",
      "See the caveats in the documentation: https://pandas.pydata.org/pandas-docs/stable/user_guide/indexing.html#returning-a-view-versus-a-copy\n",
      "  \n",
      "C:\\Users\\Anantk\\Anaconda3\\lib\\site-packages\\ipykernel_launcher.py:15: SettingWithCopyWarning: \n",
      "A value is trying to be set on a copy of a slice from a DataFrame\n",
      "\n",
      "See the caveats in the documentation: https://pandas.pydata.org/pandas-docs/stable/user_guide/indexing.html#returning-a-view-versus-a-copy\n",
      "  from ipykernel import kernelapp as app\n"
     ]
    }
   ],
   "source": [
    "import math\n",
    "columns = list(cricketers)\n",
    "\n",
    "# Imputing average values for batsmen who have never bowled\n",
    "for i in range(0,40):\n",
    "    if math.isnan(cricketers['Wickets Taken'][i]):\n",
    "        cricketers['Wickets Taken'][i] = 15\n",
    "        cricketers['Bowling Average'][i] = 52.57444\n",
    "        cricketers['Bowling Strike Rate'][i] = 55.84444\n",
    "\n",
    "# Imputing average values for batsmen who have never taken a wicket\n",
    "for i in range(0,40):\n",
    "    if math.isnan(cricketers['Bowling Average'][i]):\n",
    "        cricketers['Bowling Average'][i] = 0\n",
    "        cricketers['Bowling Strike Rate'][i] = 0   "
   ]
  },
  {
   "cell_type": "code",
   "execution_count": 44,
   "metadata": {},
   "outputs": [
    {
     "name": "stdout",
     "output_type": "stream",
     "text": [
      "KC Sangakkara (SL)\n",
      "6356\n",
      "52.96\n",
      "84.7\n",
      "15.0\n",
      "52.57444\n",
      "55.84444\n",
      "Batsman\n",
      "\n",
      "\n",
      "LRPL Taylor (NZ)\n",
      "6428\n",
      "54.01\n",
      "83.56\n",
      "0.0\n",
      "0.0\n",
      "0.0\n",
      "Batsman\n"
     ]
    }
   ],
   "source": [
    "# printing Kumar Sangakarra (who has never bowled)\n",
    "for i in columns:  \n",
    "    print (cricketers[i][5]) \n",
    "print('\\n')\n",
    "# printing Ross Taylor (who has never taken a wicket)\n",
    "for i in columns:\n",
    "    print (cricketers[i][4]) "
   ]
  },
  {
   "cell_type": "markdown",
   "metadata": {},
   "source": [
    "### Creating the Classifier\n",
    "Let us create our classifier that, for now, shall use four parameters -  runs scored, wickets taken, batting and bowling averages.\n",
    "\n",
    "We give the SVM model all the inputs, and fit it to the specified parameters. The model creates a decision boundary known as a **hyperplane** that we plot below. On one side of the hyperplane lie the batsmen, and the on the other the bowlers."
   ]
  },
  {
   "cell_type": "code",
   "execution_count": 24,
   "metadata": {},
   "outputs": [],
   "source": [
    "from sklearn import svm\n",
    "from sklearn.model_selection import train_test_split\n",
    "from sklearn.metrics import classification_report, f1_score"
   ]
  },
  {
   "cell_type": "code",
   "execution_count": 5,
   "metadata": {},
   "outputs": [],
   "source": [
    "# Extract features as matrix\n",
    "features = ['Runs Scored', 'Batting Average', 'Wickets Taken', 'Bowling Average']\n",
    "X = cricketers.loc[:, features].values\n",
    "# Extract target label\n",
    "Y = cricketers.loc[:, ['Type']].values\n",
    "\n",
    "# Split into train and test data\n",
    "# keeping a 40:60 split\n",
    "X_train, X_test, Y_train, Y_test = train_test_split (X, Y, test_size=0.4, random_state=0)"
   ]
  },
  {
   "cell_type": "code",
   "execution_count": 6,
   "metadata": {},
   "outputs": [],
   "source": [
    "# Build an SVC model using linear regression\n",
    "model = svm.SVC(kernel= 'linear', C=1)"
   ]
  },
  {
   "cell_type": "code",
   "execution_count": 7,
   "metadata": {},
   "outputs": [
    {
     "data": {
      "text/plain": [
       "SVC(C=1, break_ties=False, cache_size=200, class_weight=None, coef0=0.0,\n",
       "    decision_function_shape='ovr', degree=3, gamma='scale', kernel='linear',\n",
       "    max_iter=-1, probability=False, random_state=None, shrinking=True,\n",
       "    tol=0.001, verbose=False)"
      ]
     },
     "execution_count": 7,
     "metadata": {},
     "output_type": "execute_result"
    }
   ],
   "source": [
    "type_label = np.where(cricketers['Type']=='Batsman', 0, 1)\n",
    "parameters = cricketers[['Runs Scored','Batting Average','Wickets Taken','Bowling Average']].values\n",
    "model.fit(parameters, type_label)"
   ]
  },
  {
   "cell_type": "markdown",
   "metadata": {},
   "source": [
    "### \"Tu batting karta hai ya bowling?\"\n",
    "\n",
    "And that's that! Now we can write a small function that stats of a player, call upon the classifier and display the skill they are better at. "
   ]
  },
  {
   "cell_type": "code",
   "execution_count": 72,
   "metadata": {},
   "outputs": [],
   "source": [
    "# function that outputs which skill the player is better at\n",
    "def batsman_or_bowler(runs, batting_avg, wickets, bowling_avg):\n",
    "    if(model.predict([[runs, batting_avg, wickets, bowling_avg]]))==0:\n",
    "        print('He\\'s a better batsman!')\n",
    "    else:\n",
    "        print('He\\'s a better bowler!')"
   ]
  },
  {
   "cell_type": "markdown",
   "metadata": {},
   "source": [
    "Let's have some fun.\n",
    "\n",
    "Plugging in the stats, we see that Shane Watson is a better ODI batsman. And Sir Jadeja is a better bowler than a batsman. No surprises there. \n",
    "\n",
    "However, Shakib is a better batsman than a bowler!\n",
    "That is surprising, *since he features in the list of top ten wicket-takers since 2010*, and we had to remove him from the dataset. Just goes to show how much value all-rounders like Shakib bring to the playing XI. "
   ]
  },
  {
   "cell_type": "code",
   "execution_count": 73,
   "metadata": {},
   "outputs": [
    {
     "name": "stdout",
     "output_type": "stream",
     "text": [
      "He's a better batsman!\n"
     ]
    }
   ],
   "source": [
    "batsman_or_bowler(5757,40.54, 168, 31.79) #for Shane Watson"
   ]
  },
  {
   "cell_type": "code",
   "execution_count": 83,
   "metadata": {},
   "outputs": [
    {
     "name": "stdout",
     "output_type": "stream",
     "text": [
      "He's a better bowler!\n"
     ]
    }
   ],
   "source": [
    "batsman_or_bowler(2296, 31.88, 187, 36.57) #for Ravindra Jadeja"
   ]
  },
  {
   "cell_type": "code",
   "execution_count": 82,
   "metadata": {},
   "outputs": [
    {
     "name": "stdout",
     "output_type": "stream",
     "text": [
      "He's a better batsman!\n"
     ]
    }
   ],
   "source": [
    "batsman_or_bowler(6323, 37.86, 260, 30.21) #for Shakib al Hasan"
   ]
  },
  {
   "cell_type": "markdown",
   "metadata": {},
   "source": [
    "Here's what we get when we look at other players - "
   ]
  },
  {
   "cell_type": "code",
   "execution_count": 89,
   "metadata": {},
   "outputs": [
    {
     "name": "stdout",
     "output_type": "stream",
     "text": [
      "He's a better batsman!\n"
     ]
    }
   ],
   "source": [
    "batsman_or_bowler(5830, 41.94, 120, 33.35) #for Angelo Mathews"
   ]
  },
  {
   "cell_type": "code",
   "execution_count": 85,
   "metadata": {},
   "outputs": [
    {
     "name": "stdout",
     "output_type": "stream",
     "text": [
      "He's a better bowler!\n"
     ]
    }
   ],
   "source": [
    "batsman_or_bowler(1821, 24.94, 136, 36.38) #for Jason Holder"
   ]
  },
  {
   "cell_type": "code",
   "execution_count": 88,
   "metadata": {},
   "outputs": [
    {
     "name": "stdout",
     "output_type": "stream",
     "text": [
      "He's a better bowler!\n"
     ]
    }
   ],
   "source": [
    "batsman_or_bowler(957, 29.9, 54, 40.64)    #for Hardik Pandya"
   ]
  },
  {
   "cell_type": "code",
   "execution_count": 90,
   "metadata": {},
   "outputs": [
    {
     "name": "stdout",
     "output_type": "stream",
     "text": [
      "He's a better bowler!\n"
     ]
    }
   ],
   "source": [
    "batsman_or_bowler(1226, 25.02, 143, 30.65) #for Chris Woakes"
   ]
  },
  {
   "cell_type": "code",
   "execution_count": 91,
   "metadata": {},
   "outputs": [
    {
     "name": "stdout",
     "output_type": "stream",
     "text": [
      "He's a better batsman!\n"
     ]
    }
   ],
   "source": [
    "batsman_or_bowler(2782, 27.82, 130, 32.54) #for Mohammad Nabi"
   ]
  },
  {
   "cell_type": "markdown",
   "metadata": {},
   "source": [
    "### Plotting this  4-dimensional data\n",
    "The first three variables can be on the X, Y and Z axes and the 4th can be represented using colour. <br>\n",
    "Here,  a heatmap with the a color scheme (yellow to green) was used for the 4th feature."
   ]
  },
  {
   "cell_type": "code",
   "execution_count": 92,
   "metadata": {},
   "outputs": [],
   "source": [
    "from mpl_toolkits.mplot3d import Axes3D"
   ]
  },
  {
   "cell_type": "code",
   "execution_count": 127,
   "metadata": {},
   "outputs": [
    {
     "data": {
      "image/png": "[encoded data removed]",
      "text/plain": [
       "<Figure size 432x288 with 2 Axes>"
      ]
     },
     "metadata": {
      "needs_background": "light"
     },
     "output_type": "display_data"
    }
   ],
   "source": [
    "fig = plt.figure()\n",
    "ax = fig.add_subplot(111, projection='3d')\n",
    "\n",
    "x = cricketers['Runs Scored'].values\n",
    "y = cricketers['Bowling Average'].values\n",
    "z = cricketers['Wickets Taken'].values\n",
    "c = cricketers['Batting Average'].values\n",
    "\n",
    "ax.set_xlabel('Runs')\n",
    "ax.set_ylabel('Bowling Avg')\n",
    "ax.set_zlabel('Wickets')\n",
    "\n",
    "img = ax.scatter(x, y, z, c=c, cmap=plt.summer())\n",
    "fig.colorbar(img)\n",
    "plt.show()"
   ]
  },
  {
   "cell_type": "code",
   "execution_count": null,
   "metadata": {},
   "outputs": [],
   "source": []
  }
 ],
 "metadata": {
  "kernelspec": {
   "display_name": "Python 3",
   "language": "python",
   "name": "python3"
  },
  "language_info": {
   "codemirror_mode": {
    "name": "ipython",
    "version": 3
   },
   "file_extension": ".py",
   "mimetype": "text/x-python",
   "name": "python",
   "nbconvert_exporter": "python",
   "pygments_lexer": "ipython3",
   "version": "3.7.3"
  }
 },
 "nbformat": 4,
 "nbformat_minor": 2
}
