{
 "cells": [
  {
   "cell_type": "markdown",
   "metadata": {},
   "source": [
    "## Jack of All Trades, Master of One?\n",
    "We are trying to create an SVM Classifier that takes a cricketer's statistics, such as batting average and bowling economy, and classify whether the cricketer is a better batsman or bowler. In other words, we will be able to tell which is a cricketer's primary skill - batting or bowling? \n",
    "\n",
    "This is pretty fun, since we can use it to determine at which skill those rarebred all-rounders are better at!\n",
    "\n",
    "**SVMs work well with small datasets and high dimensions**, so they will be perfect for our cause. \n",
    "Credit to [Alice Zhao](https://github.com/adashofdata) for providing the inspiration needed for this mini-project."
   ]
  },
  {
   "cell_type": "code",
   "execution_count": 21,
   "metadata": {},
   "outputs": [],
   "source": [
    "# Packages for analysis\n",
    "import pandas as pd\n",
    "import numpy as np\n",
    "from sklearn import svm\n",
    "\n",
    "# Packages for visuals\n",
    "import matplotlib.pyplot as plt\n",
    "import seaborn as sns; sns.set(font_scale=1.2)\n",
    "\n",
    "# Allows charts to appear in the notebook\n",
    "%matplotlib inline"
   ]
  },
  {
   "cell_type": "markdown",
   "metadata": {},
   "source": [
    "### The Training Dataset\n",
    "We shall be giving the SVM labelled data - hence making this a *supervised learning* technique. \n",
    "I am taking 15 of the world's top ODI batsmen (in terms of runs scored since 01 Jan 2010), and 15 of the world's top ODI bowlers (in terms of wickets taken since 01 Jan 2010). This data can be retrieved from ESPNCricinfo's Statsguru. We're looking at the players' batting and bowling averages, strike rates, runs scored and economy in this period.\n",
    "\n",
    "However, some of the top wicket-takers on the list are known to be competent all-rounders, so we need to replace them with other pure bowlers lower down the list. So out go Shakib, Thisara Perera, Sir Jadeja and Woakes - and in come Mitchell Johnson, Shami, Mashrafe Mortaza and Rabada. "
   ]
  },
  {
   "cell_type": "code",
   "execution_count": 22,
   "metadata": {},
   "outputs": [
    {
     "data": {
      "text/html": [
       "<div>\n",
       "<style scoped>\n",
       "    .dataframe tbody tr th:only-of-type {\n",
       "        vertical-align: middle;\n",
       "    }\n",
       "\n",
       "    .dataframe tbody tr th {\n",
       "        vertical-align: top;\n",
       "    }\n",
       "\n",
       "    .dataframe thead th {\n",
       "        text-align: right;\n",
       "    }\n",
       "</style>\n",
       "<table border=\"1\" class=\"dataframe\">\n",
       "  <thead>\n",
       "    <tr style=\"text-align: right;\">\n",
       "      <th></th>\n",
       "      <th>Type</th>\n",
       "      <th>Batting Average</th>\n",
       "      <th>Batting Strike Rate</th>\n",
       "      <th>Runs Scored</th>\n",
       "      <th>Bowling Average</th>\n",
       "      <th>Bowling Strike Rate</th>\n",
       "      <th>Economy</th>\n",
       "      <th>Player</th>\n",
       "    </tr>\n",
       "  </thead>\n",
       "  <tbody>\n",
       "    <tr>\n",
       "      <th>0</th>\n",
       "      <td>Batsman</td>\n",
       "      <td>60.34</td>\n",
       "      <td>93.84</td>\n",
       "      <td>10802</td>\n",
       "      <td>166.25</td>\n",
       "      <td>160.25</td>\n",
       "      <td>6.22</td>\n",
       "      <td>V Kohli (INDIA)</td>\n",
       "    </tr>\n",
       "    <tr>\n",
       "      <th>1</th>\n",
       "      <td>Batsman</td>\n",
       "      <td>53.44</td>\n",
       "      <td>90.44</td>\n",
       "      <td>7963</td>\n",
       "      <td>64.38</td>\n",
       "      <td>74.12</td>\n",
       "      <td>5.21</td>\n",
       "      <td>RG Sharma (INDIA)</td>\n",
       "    </tr>\n",
       "    <tr>\n",
       "      <th>2</th>\n",
       "      <td>Batsman</td>\n",
       "      <td>49.76</td>\n",
       "      <td>89.11</td>\n",
       "      <td>7265</td>\n",
       "      <td>NaN</td>\n",
       "      <td>NaN</td>\n",
       "      <td>NaN</td>\n",
       "      <td>HM Amla (SA)</td>\n",
       "    </tr>\n",
       "    <tr>\n",
       "      <th>3</th>\n",
       "      <td>Batsman</td>\n",
       "      <td>64.20</td>\n",
       "      <td>109.76</td>\n",
       "      <td>6485</td>\n",
       "      <td>28.86</td>\n",
       "      <td>27.43</td>\n",
       "      <td>6.31</td>\n",
       "      <td>AB de Villiers (SA)</td>\n",
       "    </tr>\n",
       "    <tr>\n",
       "      <th>4</th>\n",
       "      <td>Batsman</td>\n",
       "      <td>54.01</td>\n",
       "      <td>83.56</td>\n",
       "      <td>6428</td>\n",
       "      <td>NaN</td>\n",
       "      <td>NaN</td>\n",
       "      <td>NaN</td>\n",
       "      <td>LRPL Taylor (NZ)</td>\n",
       "    </tr>\n",
       "    <tr>\n",
       "      <th>5</th>\n",
       "      <td>Batsman</td>\n",
       "      <td>52.96</td>\n",
       "      <td>84.70</td>\n",
       "      <td>6356</td>\n",
       "      <td>NaN</td>\n",
       "      <td>NaN</td>\n",
       "      <td>NaN</td>\n",
       "      <td>KC Sangakkara (SL)</td>\n",
       "    </tr>\n",
       "    <tr>\n",
       "      <th>6</th>\n",
       "      <td>Batsman</td>\n",
       "      <td>44.65</td>\n",
       "      <td>87.03</td>\n",
       "      <td>6296</td>\n",
       "      <td>45.08</td>\n",
       "      <td>55.47</td>\n",
       "      <td>4.88</td>\n",
       "      <td>TM Dilshan (SL)</td>\n",
       "    </tr>\n",
       "    <tr>\n",
       "      <th>7</th>\n",
       "      <td>Batsman</td>\n",
       "      <td>40.52</td>\n",
       "      <td>94.90</td>\n",
       "      <td>6241</td>\n",
       "      <td>NaN</td>\n",
       "      <td>NaN</td>\n",
       "      <td>NaN</td>\n",
       "      <td>EJG Morgan (ENG)</td>\n",
       "    </tr>\n",
       "    <tr>\n",
       "      <th>8</th>\n",
       "      <td>Batsman</td>\n",
       "      <td>47.90</td>\n",
       "      <td>81.82</td>\n",
       "      <td>6132</td>\n",
       "      <td>35.41</td>\n",
       "      <td>39.65</td>\n",
       "      <td>5.36</td>\n",
       "      <td>KS Williamson (NZ)</td>\n",
       "    </tr>\n",
       "    <tr>\n",
       "      <th>9</th>\n",
       "      <td>Batsman</td>\n",
       "      <td>42.35</td>\n",
       "      <td>88.06</td>\n",
       "      <td>5888</td>\n",
       "      <td>24.50</td>\n",
       "      <td>27.25</td>\n",
       "      <td>5.39</td>\n",
       "      <td>MJ Guptill (NZ)</td>\n",
       "    </tr>\n",
       "    <tr>\n",
       "      <th>10</th>\n",
       "      <td>Batsman</td>\n",
       "      <td>51.36</td>\n",
       "      <td>87.37</td>\n",
       "      <td>5856</td>\n",
       "      <td>61.95</td>\n",
       "      <td>64.27</td>\n",
       "      <td>5.78</td>\n",
       "      <td>JE Root (ENG)</td>\n",
       "    </tr>\n",
       "    <tr>\n",
       "      <th>11</th>\n",
       "      <td>Batsman</td>\n",
       "      <td>37.27</td>\n",
       "      <td>80.50</td>\n",
       "      <td>5740</td>\n",
       "      <td>38.86</td>\n",
       "      <td>55.63</td>\n",
       "      <td>4.19</td>\n",
       "      <td>Mohammad Hafeez (PAK)</td>\n",
       "    </tr>\n",
       "    <tr>\n",
       "      <th>12</th>\n",
       "      <td>Batsman</td>\n",
       "      <td>50.35</td>\n",
       "      <td>85.79</td>\n",
       "      <td>5640</td>\n",
       "      <td>31.00</td>\n",
       "      <td>36.00</td>\n",
       "      <td>5.17</td>\n",
       "      <td>MS Dhoni (INDIA)</td>\n",
       "    </tr>\n",
       "    <tr>\n",
       "      <th>13</th>\n",
       "      <td>Batsman</td>\n",
       "      <td>47.47</td>\n",
       "      <td>88.60</td>\n",
       "      <td>5507</td>\n",
       "      <td>94.50</td>\n",
       "      <td>96.00</td>\n",
       "      <td>5.91</td>\n",
       "      <td>F du Plessis (SA)</td>\n",
       "    </tr>\n",
       "    <tr>\n",
       "      <th>14</th>\n",
       "      <td>Batsman</td>\n",
       "      <td>44.91</td>\n",
       "      <td>93.99</td>\n",
       "      <td>5480</td>\n",
       "      <td>NaN</td>\n",
       "      <td>NaN</td>\n",
       "      <td>NaN</td>\n",
       "      <td>S Dhawan (IN)</td>\n",
       "    </tr>\n",
       "    <tr>\n",
       "      <th>15</th>\n",
       "      <td>Bowler</td>\n",
       "      <td>6.82</td>\n",
       "      <td>74.30</td>\n",
       "      <td>437</td>\n",
       "      <td>28.94</td>\n",
       "      <td>31.60</td>\n",
       "      <td>5.47</td>\n",
       "      <td>SL Malinga (SL)</td>\n",
       "    </tr>\n",
       "    <tr>\n",
       "      <th>16</th>\n",
       "      <td>Bowler</td>\n",
       "      <td>16.76</td>\n",
       "      <td>96.35</td>\n",
       "      <td>570</td>\n",
       "      <td>24.45</td>\n",
       "      <td>31.10</td>\n",
       "      <td>4.71</td>\n",
       "      <td>MG Johnson (AUS)</td>\n",
       "    </tr>\n",
       "    <tr>\n",
       "      <th>17</th>\n",
       "      <td>Bowler</td>\n",
       "      <td>7.85</td>\n",
       "      <td>69.77</td>\n",
       "      <td>157</td>\n",
       "      <td>24.83</td>\n",
       "      <td>32.00</td>\n",
       "      <td>4.65</td>\n",
       "      <td>Imran Tahir (SA)</td>\n",
       "    </tr>\n",
       "    <tr>\n",
       "      <th>18</th>\n",
       "      <td>Bowler</td>\n",
       "      <td>12.42</td>\n",
       "      <td>89.46</td>\n",
       "      <td>348</td>\n",
       "      <td>20.99</td>\n",
       "      <td>25.00</td>\n",
       "      <td>5.02</td>\n",
       "      <td>MA Starc (AUS)</td>\n",
       "    </tr>\n",
       "    <tr>\n",
       "      <th>19</th>\n",
       "      <td>Bowler</td>\n",
       "      <td>7.38</td>\n",
       "      <td>84.17</td>\n",
       "      <td>133</td>\n",
       "      <td>24.75</td>\n",
       "      <td>27.10</td>\n",
       "      <td>5.48</td>\n",
       "      <td>Mohammed Shami (INDIA)</td>\n",
       "    </tr>\n",
       "    <tr>\n",
       "      <th>20</th>\n",
       "      <td>Bowler</td>\n",
       "      <td>11.93</td>\n",
       "      <td>87.67</td>\n",
       "      <td>740</td>\n",
       "      <td>36.13</td>\n",
       "      <td>42.00</td>\n",
       "      <td>5.15</td>\n",
       "      <td>Mashrafe Mortaza (BDESH)</td>\n",
       "    </tr>\n",
       "    <tr>\n",
       "      <th>21</th>\n",
       "      <td>Bowler</td>\n",
       "      <td>9.62</td>\n",
       "      <td>73.68</td>\n",
       "      <td>154</td>\n",
       "      <td>25.06</td>\n",
       "      <td>29.70</td>\n",
       "      <td>5.05</td>\n",
       "      <td>TA Boult (NZ)</td>\n",
       "    </tr>\n",
       "    <tr>\n",
       "      <th>22</th>\n",
       "      <td>Bowler</td>\n",
       "      <td>6.00</td>\n",
       "      <td>60.56</td>\n",
       "      <td>252</td>\n",
       "      <td>21.90</td>\n",
       "      <td>30.90</td>\n",
       "      <td>4.24</td>\n",
       "      <td>Saeed Ajmal (PAK)</td>\n",
       "    </tr>\n",
       "    <tr>\n",
       "      <th>23</th>\n",
       "      <td>Bowler</td>\n",
       "      <td>13.06</td>\n",
       "      <td>12.75</td>\n",
       "      <td>575</td>\n",
       "      <td>34.11</td>\n",
       "      <td>37.30</td>\n",
       "      <td>5.48</td>\n",
       "      <td>TG Southee (NZ)</td>\n",
       "    </tr>\n",
       "    <tr>\n",
       "      <th>24</th>\n",
       "      <td>Bowler</td>\n",
       "      <td>7.82</td>\n",
       "      <td>75.70</td>\n",
       "      <td>94</td>\n",
       "      <td>24.46</td>\n",
       "      <td>29.50</td>\n",
       "      <td>4.96</td>\n",
       "      <td>M Morkel (SA)</td>\n",
       "    </tr>\n",
       "    <tr>\n",
       "      <th>25</th>\n",
       "      <td>Bowler</td>\n",
       "      <td>16.07</td>\n",
       "      <td>86.98</td>\n",
       "      <td>675</td>\n",
       "      <td>32.91</td>\n",
       "      <td>40.10</td>\n",
       "      <td>4.91</td>\n",
       "      <td>R Ashwin (INDIA)</td>\n",
       "    </tr>\n",
       "    <tr>\n",
       "      <th>26</th>\n",
       "      <td>Bowler</td>\n",
       "      <td>9.57</td>\n",
       "      <td>64.94</td>\n",
       "      <td>316</td>\n",
       "      <td>24.80</td>\n",
       "      <td>31.40</td>\n",
       "      <td>4.72</td>\n",
       "      <td>DW Steyn (SA)</td>\n",
       "    </tr>\n",
       "    <tr>\n",
       "      <th>27</th>\n",
       "      <td>Bowler</td>\n",
       "      <td>16.18</td>\n",
       "      <td>77.77</td>\n",
       "      <td>259</td>\n",
       "      <td>27.34</td>\n",
       "      <td>32.80</td>\n",
       "      <td>4.99</td>\n",
       "      <td>K Rabada (SA)</td>\n",
       "    </tr>\n",
       "    <tr>\n",
       "      <th>28</th>\n",
       "      <td>Bowler</td>\n",
       "      <td>18.85</td>\n",
       "      <td>102.43</td>\n",
       "      <td>528</td>\n",
       "      <td>31.11</td>\n",
       "      <td>33.10</td>\n",
       "      <td>5.62</td>\n",
       "      <td>AU Rashid (ENG)</td>\n",
       "    </tr>\n",
       "    <tr>\n",
       "      <th>29</th>\n",
       "      <td>Bowler</td>\n",
       "      <td>20.52</td>\n",
       "      <td>101.23</td>\n",
       "      <td>903</td>\n",
       "      <td>17.80</td>\n",
       "      <td>25.70</td>\n",
       "      <td>4.14</td>\n",
       "      <td>Rashid Khan (AFG)</td>\n",
       "    </tr>\n",
       "  </tbody>\n",
       "</table>\n",
       "</div>"
      ],
      "text/plain": [
       "       Type  Batting Average  Batting Strike Rate  Runs Scored  \\\n",
       "0   Batsman            60.34                93.84        10802   \n",
       "1   Batsman            53.44                90.44         7963   \n",
       "2   Batsman            49.76                89.11         7265   \n",
       "3   Batsman            64.20               109.76         6485   \n",
       "4   Batsman            54.01                83.56         6428   \n",
       "5   Batsman            52.96                84.70         6356   \n",
       "6   Batsman            44.65                87.03         6296   \n",
       "7   Batsman            40.52                94.90         6241   \n",
       "8   Batsman            47.90                81.82         6132   \n",
       "9   Batsman            42.35                88.06         5888   \n",
       "10  Batsman            51.36                87.37         5856   \n",
       "11  Batsman            37.27                80.50         5740   \n",
       "12  Batsman            50.35                85.79         5640   \n",
       "13  Batsman            47.47                88.60         5507   \n",
       "14  Batsman            44.91                93.99         5480   \n",
       "15   Bowler             6.82                74.30          437   \n",
       "16   Bowler            16.76                96.35          570   \n",
       "17   Bowler             7.85                69.77          157   \n",
       "18   Bowler            12.42                89.46          348   \n",
       "19   Bowler             7.38                84.17          133   \n",
       "20   Bowler            11.93                87.67          740   \n",
       "21   Bowler             9.62                73.68          154   \n",
       "22   Bowler             6.00                60.56          252   \n",
       "23   Bowler            13.06                12.75          575   \n",
       "24   Bowler             7.82                75.70           94   \n",
       "25   Bowler            16.07                86.98          675   \n",
       "26   Bowler             9.57                64.94          316   \n",
       "27   Bowler            16.18                77.77          259   \n",
       "28   Bowler            18.85               102.43          528   \n",
       "29   Bowler            20.52               101.23          903   \n",
       "\n",
       "    Bowling Average  Bowling Strike Rate  Economy                    Player  \n",
       "0            166.25               160.25     6.22           V Kohli (INDIA)  \n",
       "1             64.38                74.12     5.21         RG Sharma (INDIA)  \n",
       "2               NaN                  NaN      NaN              HM Amla (SA)  \n",
       "3             28.86                27.43     6.31       AB de Villiers (SA)  \n",
       "4               NaN                  NaN      NaN          LRPL Taylor (NZ)  \n",
       "5               NaN                  NaN      NaN        KC Sangakkara (SL)  \n",
       "6             45.08                55.47     4.88           TM Dilshan (SL)  \n",
       "7               NaN                  NaN      NaN          EJG Morgan (ENG)  \n",
       "8             35.41                39.65     5.36        KS Williamson (NZ)  \n",
       "9             24.50                27.25     5.39           MJ Guptill (NZ)  \n",
       "10            61.95                64.27     5.78             JE Root (ENG)  \n",
       "11            38.86                55.63     4.19     Mohammad Hafeez (PAK)  \n",
       "12            31.00                36.00     5.17          MS Dhoni (INDIA)  \n",
       "13            94.50                96.00     5.91         F du Plessis (SA)  \n",
       "14              NaN                  NaN      NaN             S Dhawan (IN)  \n",
       "15            28.94                31.60     5.47           SL Malinga (SL)  \n",
       "16            24.45                31.10     4.71          MG Johnson (AUS)  \n",
       "17            24.83                32.00     4.65          Imran Tahir (SA)  \n",
       "18            20.99                25.00     5.02            MA Starc (AUS)  \n",
       "19            24.75                27.10     5.48    Mohammed Shami (INDIA)  \n",
       "20            36.13                42.00     5.15  Mashrafe Mortaza (BDESH)  \n",
       "21            25.06                29.70     5.05             TA Boult (NZ)  \n",
       "22            21.90                30.90     4.24         Saeed Ajmal (PAK)  \n",
       "23            34.11                37.30     5.48           TG Southee (NZ)  \n",
       "24            24.46                29.50     4.96             M Morkel (SA)  \n",
       "25            32.91                40.10     4.91          R Ashwin (INDIA)  \n",
       "26            24.80                31.40     4.72             DW Steyn (SA)  \n",
       "27            27.34                32.80     4.99             K Rabada (SA)  \n",
       "28            31.11                33.10     5.62           AU Rashid (ENG)  \n",
       "29            17.80                25.70     4.14         Rashid Khan (AFG)  "
      ]
     },
     "execution_count": 22,
     "metadata": {},
     "output_type": "execute_result"
    }
   ],
   "source": [
    "#load the dataset\n",
    "cricketers = pd.read_csv('cricketer_data.csv')\n",
    "    \n",
    "columns = [\"Type\", \"Batting Average\", \"Batting Strike Rate\", \"Runs Scored\", \"Bowling Average\", \"Bowling Strike Rate\", \"Economy\", \"Player\"]\n",
    "\n",
    "cricketers = cricketers.reindex(columns=columns)\n",
    "cricketers['Runs Scored'] = [10802,7963,7265,6485,6428,6356,6296,6241,6132,5888,5856,5740,5640,5507,5480,437,570,157,348,133,740,154,252,575,94,675,316,259,528,903]\n",
    "\n",
    "cricketers"
   ]
  },
  {
   "cell_type": "markdown",
   "metadata": {},
   "source": [
    "### Visualization\n",
    "\n",
    "Now we take two parameters at a time and plot them to see if they can be used to separate the batsmen from the bowlers. \n",
    "Not all parameters work - below you will see that many bowlers have batting strikes even better than the world's best batsmen. Plotting batting v/s bowling average or runs scored v/s bowling economy seems to work much better, as it creates separate clusters of batters and bowlers.  \n",
    "\n",
    "It is also funny to note that while Kohli stands out as the greatest ODI batsman of the decade, it is his bowling strike rate that actually puts him miles above the rest."
   ]
  },
  {
   "cell_type": "code",
   "execution_count": 23,
   "metadata": {},
   "outputs": [
    {
     "data": {
      "image/png": "[encoded data removed]",
      "text/plain": [
       "<Figure size 459.895x360 with 1 Axes>"
      ]
     },
     "metadata": {
      "needs_background": "light"
     },
     "output_type": "display_data"
    }
   ],
   "source": [
    "# Plot two parameters\n",
    "sns.lmplot('Batting Strike Rate', 'Bowling Strike Rate', data=cricketers, hue='Type',\n",
    "           palette='Set1', fit_reg=False, scatter_kws={\"s\": 70});"
   ]
  },
  {
   "cell_type": "code",
   "execution_count": 24,
   "metadata": {},
   "outputs": [
    {
     "data": {
      "image/png": "[encoded data removed]",
      "text/plain": [
       "<Figure size 459.895x360 with 1 Axes>"
      ]
     },
     "metadata": {
      "needs_background": "light"
     },
     "output_type": "display_data"
    }
   ],
   "source": [
    "# Plot two parameters\n",
    "sns.lmplot('Batting Average', 'Bowling Average', data=cricketers, hue='Type',\n",
    "           palette='Set1', fit_reg=False, scatter_kws={\"s\": 70});"
   ]
  },
  {
   "cell_type": "code",
   "execution_count": 25,
   "metadata": {},
   "outputs": [
    {
     "data": {
      "image/png": "[encoded data removed]",
      "text/plain": [
       "<Figure size 459.895x360 with 1 Axes>"
      ]
     },
     "metadata": {
      "needs_background": "light"
     },
     "output_type": "display_data"
    }
   ],
   "source": [
    "# Plot two parameters\n",
    "sns.lmplot('Runs Scored', 'Economy', data=cricketers, hue='Type',\n",
    "           palette='Set1', fit_reg=False, scatter_kws={\"s\": 70});"
   ]
  },
  {
   "cell_type": "markdown",
   "metadata": {},
   "source": [
    "### Creating the Classifier\n",
    "Let us create our classifier that, for now, shall use two parameters -  batting and bowling averages.\n",
    "\n",
    "We give the SVM model all the inputs, and fit it to the specified parameters. The model creates a decision boundary known as a **hyperplane** that we plot below. On one side of the hyperplane lie the batsmen, and the on the other the bowlers."
   ]
  },
  {
   "cell_type": "code",
   "execution_count": 26,
   "metadata": {},
   "outputs": [
    {
     "name": "stderr",
     "output_type": "stream",
     "text": [
      "C:\\Users\\Anantk\\Anaconda3\\lib\\site-packages\\ipykernel_launcher.py:3: FutureWarning: Method .as_matrix will be removed in a future version. Use .values instead.\n",
      "  This is separate from the ipykernel package so we can avoid doing imports until\n"
     ]
    }
   ],
   "source": [
    "# Specify inputs for the model\n",
    "cricket = cricketers.dropna() #drop rows having at least one NaN value\n",
    "parameters = cricket[['Batting Average','Bowling Average']].as_matrix()\n",
    "type_label = np.where(cricket['Type']=='Batsman', 0, 1)\n",
    "\n",
    "# Feature names\n",
    "cricketer_features = cricketers.columns.values[1:].tolist()"
   ]
  },
  {
   "cell_type": "code",
   "execution_count": 27,
   "metadata": {},
   "outputs": [
    {
     "data": {
      "text/plain": [
       "SVC(C=1.0, cache_size=200, class_weight=None, coef0=0.0,\n",
       "  decision_function_shape='ovr', degree=3, gamma='auto_deprecated',\n",
       "  kernel='linear', max_iter=-1, probability=False, random_state=None,\n",
       "  shrinking=True, tol=0.001, verbose=False)"
      ]
     },
     "execution_count": 27,
     "metadata": {},
     "output_type": "execute_result"
    }
   ],
   "source": [
    "# Fit the SVM model\n",
    "model = svm.SVC(kernel='linear')\n",
    "model.fit(parameters, type_label)"
   ]
  },
  {
   "cell_type": "code",
   "execution_count": 28,
   "metadata": {},
   "outputs": [],
   "source": [
    "# Get the separating hyperplane\n",
    "w = model.coef_[0]\n",
    "a = -w[0] / w[1]\n",
    "xx = np.linspace(30, 60)\n",
    "yy = a * xx - (model.intercept_[0]) / w[1]\n",
    "\n",
    "# Plot the parallels to the separating hyperplane that pass through the support vectors\n",
    "b = model.support_vectors_[0]\n",
    "yy_down = a * xx + (b[1] - a * b[0])\n",
    "b = model.support_vectors_[-1]\n",
    "yy_up = a * xx + (b[1] - a * b[0])"
   ]
  },
  {
   "cell_type": "code",
   "execution_count": 29,
   "metadata": {},
   "outputs": [
    {
     "data": {
      "image/png": "[encoded data removed]",
      "text/plain": [
       "<Figure size 459.895x360 with 1 Axes>"
      ]
     },
     "metadata": {
      "needs_background": "light"
     },
     "output_type": "display_data"
    }
   ],
   "source": [
    "# Plot the hyperplane\n",
    "sns.lmplot('Batting Average', 'Bowling Average', data=cricketers, hue='Type', palette='Set1', fit_reg=False, scatter_kws={\"s\": 70})\n",
    "plt.plot(xx, yy, linewidth=2, color='black');"
   ]
  },
  {
   "cell_type": "code",
   "execution_count": 30,
   "metadata": {},
   "outputs": [
    {
     "data": {
      "image/png": "[encoded data removed]",
      "text/plain": [
       "<Figure size 459.895x360 with 1 Axes>"
      ]
     },
     "metadata": {
      "needs_background": "light"
     },
     "output_type": "display_data"
    }
   ],
   "source": [
    "# Look at the margins and support vectors\n",
    "sns.lmplot('Batting Average', 'Bowling Average', data=cricketers, hue='Type', palette='Set1', fit_reg=False, scatter_kws={\"s\": 70})\n",
    "plt.plot(xx, yy, linewidth=2, color='black')\n",
    "plt.plot(xx, yy_down, 'k--')\n",
    "plt.plot(xx, yy_up, 'k--')\n",
    "plt.scatter(model.support_vectors_[:, 0], model.support_vectors_[:, 1],\n",
    "            s=80, facecolors='none');"
   ]
  },
  {
   "cell_type": "markdown",
   "metadata": {},
   "source": [
    "### \"Tu batting karta hai ya bowling?\"\n",
    "\n",
    "And that's that! Now we can write a small function that takes the batting and bowling averages of a player, call upon the classifier and display the skill they are better at. "
   ]
  },
  {
   "cell_type": "code",
   "execution_count": 31,
   "metadata": {},
   "outputs": [],
   "source": [
    "# function that outputs which skill the player is better at\n",
    "def batsman_or_bowler(batting_avg, bowling_avg):\n",
    "    if(model.predict([[batting_avg, bowling_avg]]))==0:\n",
    "        print('He\\'s a better batsman!')\n",
    "    else:\n",
    "        print('He\\'s a better bowler!')"
   ]
  },
  {
   "cell_type": "markdown",
   "metadata": {},
   "source": [
    "Let's have some fun.\n",
    "\n",
    "Plugging in the stats, we see that Shane Watson is a better batsman. No surprises there. \n",
    "\n",
    "But both Sir Jadeja and Shakib are also better batters than bowlers! That is surprising, since both featured in the list of top ten wicket-takers since 2010, and we had to remove them from the dataset as bowlers. Just goes to show how much value these guys bring to the playing XI. "
   ]
  },
  {
   "cell_type": "code",
   "execution_count": 32,
   "metadata": {},
   "outputs": [
    {
     "name": "stdout",
     "output_type": "stream",
     "text": [
      "He's a better batsman!\n"
     ]
    }
   ],
   "source": [
    "batsman_or_bowler(40.54, 31.79) #for Shane Watson"
   ]
  },
  {
   "cell_type": "code",
   "execution_count": 33,
   "metadata": {},
   "outputs": [
    {
     "name": "stdout",
     "output_type": "stream",
     "text": [
      "He's a better batsman!\n"
     ]
    }
   ],
   "source": [
    "batsman_or_bowler(37.86, 30.21) #for Shakib al Hasan"
   ]
  },
  {
   "cell_type": "code",
   "execution_count": 34,
   "metadata": {},
   "outputs": [
    {
     "name": "stdout",
     "output_type": "stream",
     "text": [
      "He's a better batsman!\n"
     ]
    }
   ],
   "source": [
    "batsman_or_bowler(30.60, 36.90) #for Sir Jadeja"
   ]
  },
  {
   "cell_type": "code",
   "execution_count": 35,
   "metadata": {},
   "outputs": [
    {
     "data": {
      "image/png": "[encoded data removed]",
      "text/plain": [
       "<Figure size 459.895x360 with 1 Axes>"
      ]
     },
     "metadata": {
      "needs_background": "light"
     },
     "output_type": "display_data"
    }
   ],
   "source": [
    "# Plot the point to see where the point lies\n",
    "sns.lmplot('Batting Average', 'Bowling Average', data=cricketers, hue='Type', palette='Set1', fit_reg=False, scatter_kws={\"s\": 70})\n",
    "plt.plot(xx, yy, linewidth=2, color='black')\n",
    "plt.plot(30.60, 36.90, 'yo', markersize='9');"
   ]
  },
  {
   "cell_type": "markdown",
   "metadata": {},
   "source": [
    "Jaddu is *just* towards the right of that hyperplane, and that's why he's a slightly better bat. "
   ]
  },
  {
   "cell_type": "code",
   "execution_count": 36,
   "metadata": {},
   "outputs": [
    {
     "name": "stdout",
     "output_type": "stream",
     "text": [
      "He's a better batsman!\n"
     ]
    }
   ],
   "source": [
    "batsman_or_bowler(29.90, 40.64) #for Hardik Pandya"
   ]
  },
  {
   "cell_type": "code",
   "execution_count": 37,
   "metadata": {},
   "outputs": [
    {
     "name": "stdout",
     "output_type": "stream",
     "text": [
      "He's a better bowler!\n"
     ]
    }
   ],
   "source": [
    "batsman_or_bowler(26.02, 34.56) #for Jason Holder"
   ]
  },
  {
   "cell_type": "code",
   "execution_count": 38,
   "metadata": {},
   "outputs": [
    {
     "name": "stdout",
     "output_type": "stream",
     "text": [
      "He's a better batsman!\n"
     ]
    }
   ],
   "source": [
    "batsman_or_bowler(41.97, 33.97) #for Angelo Mathews"
   ]
  },
  {
   "cell_type": "code",
   "execution_count": 39,
   "metadata": {},
   "outputs": [
    {
     "name": "stdout",
     "output_type": "stream",
     "text": [
      "He's a better bowler!\n"
     ]
    }
   ],
   "source": [
    "batsman_or_bowler(24.70, 30.47) #for Chris Woakes"
   ]
  },
  {
   "cell_type": "code",
   "execution_count": 40,
   "metadata": {},
   "outputs": [
    {
     "name": "stdout",
     "output_type": "stream",
     "text": [
      "He's a better bowler!\n"
     ]
    }
   ],
   "source": [
    "batsman_or_bowler(28.46, 31.54) #for Mohammad Nabi"
   ]
  }
 ],
 "metadata": {
  "kernelspec": {
   "display_name": "Python 3",
   "language": "python",
   "name": "python3"
  },
  "language_info": {
   "codemirror_mode": {
    "name": "ipython",
    "version": 3
   },
   "file_extension": ".py",
   "mimetype": "text/x-python",
   "name": "python",
   "nbconvert_exporter": "python",
   "pygments_lexer": "ipython3",
   "version": "3.7.3"
  }
 },
 "nbformat": 4,
 "nbformat_minor": 2
}
